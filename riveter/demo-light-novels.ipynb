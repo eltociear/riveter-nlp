{
 "cells": [
  {
   "cell_type": "markdown",
   "metadata": {},
   "source": [
    "# How to Use Riveter 💪 -- Kino no Tabi "
   ]
  },
  {
   "cell_type": "markdown",
   "metadata": {},
   "source": [
    "This Jupyter notebook will demonstrate how to use the Riveter package to measure social dynamics between personas mentioned in a collection of texts.\n",
    "\n",
    "The package identifies and extracts the subjects, verbs, and direct objects in texts; it performs coreference resolution on the personas mentioned in the texts (e.g., clustering \"Elizabeth Bennet\", \"Lizzy,\" and \"she\" together as one persona); and it measures social dynamics between the personas by referencing a given lexicon. The package currently includes Maarten Sap et al's lexicon for power and agency and Rashkin et al's lexicon for perspective, effect, value, and mental state."
   ]
  },
  {
   "cell_type": "markdown",
   "metadata": {},
   "source": [
    "## Import Libraries"
   ]
  },
  {
   "cell_type": "code",
   "execution_count": 12,
   "metadata": {},
   "outputs": [],
   "source": [
    "import os\n",
    "import random\n",
    "from riveter import Riveter\n",
    "import pandas as pd"
   ]
  },
  {
   "cell_type": "markdown",
   "metadata": {},
   "source": [
    "## Demo with Sap el al's Power and Agency Lexicon"
   ]
  },
  {
   "cell_type": "markdown",
   "metadata": {},
   "source": [
    "Here's a demonstration of Riveter with the text of the ten-volume [Kino no Tabi](https://en.wikipedia.org/wiki/Kino%27s_Journey) series, translated from Japanese by [Barnnn](https://barnnn.blogspot.com/p/kinos-journey.html) (vol 1) and the [Baka-Tskui fan wiki](https://www.baka-tsuki.org/project/index.php?title=Kino_no_Tabi#The_Kino_no_Tabi_series_by_Keiichi_Sigsawa) (vols 2-10). \n",
    "\n",
    "The dataset is based on data originally scraped from Baka-Tskui by Kristina Gong et al. for their paper on \"[Gender and Power in Japanese Light Novels](https://ceur-ws.org/Vol-3290/short_paper1101.pdf)\" (*Computational Humanities 2022*). The dataset was augmented by Lauren Klein to include the first volume of the series, which was missing from the Baka-Tskui dataset. "
   ]
  },
  {
   "cell_type": "code",
   "execution_count": 51,
   "metadata": {},
   "outputs": [
    {
     "data": {
      "text/html": [
       "<div>\n",
       "<style scoped>\n",
       "    .dataframe tbody tr th:only-of-type {\n",
       "        vertical-align: middle;\n",
       "    }\n",
       "\n",
       "    .dataframe tbody tr th {\n",
       "        vertical-align: top;\n",
       "    }\n",
       "\n",
       "    .dataframe thead th {\n",
       "        text-align: right;\n",
       "    }\n",
       "</style>\n",
       "<table border=\"1\" class=\"dataframe\">\n",
       "  <thead>\n",
       "    <tr style=\"text-align: right;\">\n",
       "      <th></th>\n",
       "      <th>id</th>\n",
       "      <th>volume</th>\n",
       "      <th>chapter</th>\n",
       "      <th>text</th>\n",
       "    </tr>\n",
       "  </thead>\n",
       "  <tbody>\n",
       "    <tr>\n",
       "      <th>0</th>\n",
       "      <td>v1c1</td>\n",
       "      <td>1</td>\n",
       "      <td>1</td>\n",
       "      <td>Across a meadow ran a single motorrad (Note: A...</td>\n",
       "    </tr>\n",
       "    <tr>\n",
       "      <th>1</th>\n",
       "      <td>v1c2</td>\n",
       "      <td>1</td>\n",
       "      <td>2</td>\n",
       "      <td>It was three in the morning.\\nI finished my wo...</td>\n",
       "    </tr>\n",
       "    <tr>\n",
       "      <th>2</th>\n",
       "      <td>v1c3</td>\n",
       "      <td>1</td>\n",
       "      <td>3</td>\n",
       "      <td>“Anyway, let’s see if we can ask the people ar...</td>\n",
       "    </tr>\n",
       "    <tr>\n",
       "      <th>3</th>\n",
       "      <td>v1c4</td>\n",
       "      <td>1</td>\n",
       "      <td>4</td>\n",
       "      <td>It was a tall, dense forest where a variety of...</td>\n",
       "    </tr>\n",
       "    <tr>\n",
       "      <th>4</th>\n",
       "      <td>v1c5</td>\n",
       "      <td>1</td>\n",
       "      <td>5</td>\n",
       "      <td>It was as if the place was filled with low tab...</td>\n",
       "    </tr>\n",
       "    <tr>\n",
       "      <th>...</th>\n",
       "      <td>...</td>\n",
       "      <td>...</td>\n",
       "      <td>...</td>\n",
       "      <td>...</td>\n",
       "    </tr>\n",
       "    <tr>\n",
       "      <th>70</th>\n",
       "      <td>v10c4</td>\n",
       "      <td>10</td>\n",
       "      <td>4</td>\n",
       "      <td>The forest had been scorched.\\nThe steep slope...</td>\n",
       "    </tr>\n",
       "    <tr>\n",
       "      <th>71</th>\n",
       "      <td>v10c5</td>\n",
       "      <td>10</td>\n",
       "      <td>5</td>\n",
       "      <td>There was a forest.\\nThe dense forest was spre...</td>\n",
       "    </tr>\n",
       "    <tr>\n",
       "      <th>72</th>\n",
       "      <td>v10c6</td>\n",
       "      <td>10</td>\n",
       "      <td>6</td>\n",
       "      <td>There was a road bordering the edge of a lake....</td>\n",
       "    </tr>\n",
       "    <tr>\n",
       "      <th>73</th>\n",
       "      <td>v10c7</td>\n",
       "      <td>10</td>\n",
       "      <td>7</td>\n",
       "      <td>In a lush deep green forest, where lakes refle...</td>\n",
       "    </tr>\n",
       "    <tr>\n",
       "      <th>74</th>\n",
       "      <td>v10c8</td>\n",
       "      <td>10</td>\n",
       "      <td>8</td>\n",
       "      <td>My name is Riku. I'm a dog.\\nI have long, whit...</td>\n",
       "    </tr>\n",
       "  </tbody>\n",
       "</table>\n",
       "<p>75 rows × 4 columns</p>\n",
       "</div>"
      ],
      "text/plain": [
       "       id  volume  chapter                                               text\n",
       "0    v1c1       1        1  Across a meadow ran a single motorrad (Note: A...\n",
       "1    v1c2       1        2  It was three in the morning.\\nI finished my wo...\n",
       "2    v1c3       1        3  “Anyway, let’s see if we can ask the people ar...\n",
       "3    v1c4       1        4  It was a tall, dense forest where a variety of...\n",
       "4    v1c5       1        5  It was as if the place was filled with low tab...\n",
       "..    ...     ...      ...                                                ...\n",
       "70  v10c4      10        4  The forest had been scorched.\\nThe steep slope...\n",
       "71  v10c5      10        5  There was a forest.\\nThe dense forest was spre...\n",
       "72  v10c6      10        6  There was a road bordering the edge of a lake....\n",
       "73  v10c7      10        7  In a lush deep green forest, where lakes refle...\n",
       "74  v10c8      10        8  My name is Riku. I'm a dog.\\nI have long, whit...\n",
       "\n",
       "[75 rows x 4 columns]"
      ]
     },
     "execution_count": 51,
     "metadata": {},
     "output_type": "execute_result"
    }
   ],
   "source": [
    "kino_df = pd.read_csv('./data/kino_no_tabi.csv',index_col=0) # change file to url?\n",
    "\n",
    "kino_df"
   ]
  },
  {
   "cell_type": "code",
   "execution_count": 29,
   "metadata": {},
   "outputs": [],
   "source": [
    "chapter_text = kino_df[\"text\"].to_list()\n",
    "volumes = kino_df[\"volume\"].to_list() # for later\n",
    "chapters = kino_df[\"chapter\"].to_list() # for later\n",
    "ids = kino_df[\"id\"].to_list()"
   ]
  },
  {
   "cell_type": "markdown",
   "metadata": {},
   "source": [
    "## Load Lexicon (\"Power\") and Train Model"
   ]
  },
  {
   "cell_type": "code",
   "execution_count": 34,
   "metadata": {},
   "outputs": [
    {
     "name": "stderr",
     "output_type": "stream",
     "text": [
      "100%|██████████| 75/75 [12:48<00:00, 10.25s/it]"
     ]
    },
    {
     "name": "stdout",
     "output_type": "stream",
     "text": [
      "2023-02-23 12:49:48 Complete!\n"
     ]
    },
    {
     "name": "stderr",
     "output_type": "stream",
     "text": [
      "\n"
     ]
    }
   ],
   "source": [
    "riveter = Riveter()\n",
    "riveter.load_sap_lexicon('power')\n",
    "riveter.train(chapter_text, ids)"
   ]
  },
  {
   "cell_type": "markdown",
   "metadata": {
    "tags": []
   },
   "source": [
    "## Get Total Scores for All Personas"
   ]
  },
  {
   "cell_type": "markdown",
   "metadata": {},
   "source": [
    "You can use the `.get_score_totals()` function to get cumulative power scores (or chosen dynamic scores) for each persona mentioned in the texts."
   ]
  },
  {
   "cell_type": "code",
   "execution_count": 59,
   "metadata": {},
   "outputs": [
    {
     "data": {
      "text/html": [
       "<div>\n",
       "<style scoped>\n",
       "    .dataframe tbody tr th:only-of-type {\n",
       "        vertical-align: middle;\n",
       "    }\n",
       "\n",
       "    .dataframe tbody tr th {\n",
       "        vertical-align: top;\n",
       "    }\n",
       "\n",
       "    .dataframe thead th {\n",
       "        text-align: right;\n",
       "    }\n",
       "</style>\n",
       "<table border=\"1\" class=\"dataframe\">\n",
       "  <thead>\n",
       "    <tr style=\"text-align: right;\">\n",
       "      <th></th>\n",
       "      <th>persona</th>\n",
       "      <th>score</th>\n",
       "    </tr>\n",
       "  </thead>\n",
       "  <tbody>\n",
       "    <tr>\n",
       "      <th>358</th>\n",
       "      <td>author</td>\n",
       "      <td>1.0</td>\n",
       "    </tr>\n",
       "    <tr>\n",
       "      <th>355</th>\n",
       "      <td>our police force</td>\n",
       "      <td>1.0</td>\n",
       "    </tr>\n",
       "    <tr>\n",
       "      <th>578</th>\n",
       "      <td>hermes' voice</td>\n",
       "      <td>1.0</td>\n",
       "    </tr>\n",
       "    <tr>\n",
       "      <th>576</th>\n",
       "      <td>kino's head</td>\n",
       "      <td>1.0</td>\n",
       "    </tr>\n",
       "    <tr>\n",
       "      <th>320</th>\n",
       "      <td>this stubborn man</td>\n",
       "      <td>1.0</td>\n",
       "    </tr>\n",
       "    <tr>\n",
       "      <th>...</th>\n",
       "      <td>...</td>\n",
       "      <td>...</td>\n",
       "    </tr>\n",
       "    <tr>\n",
       "      <th>338</th>\n",
       "      <td>governor</td>\n",
       "      <td>-1.0</td>\n",
       "    </tr>\n",
       "    <tr>\n",
       "      <th>351</th>\n",
       "      <td>his fellow police officer</td>\n",
       "      <td>-1.0</td>\n",
       "    </tr>\n",
       "    <tr>\n",
       "      <th>352</th>\n",
       "      <td>his physician</td>\n",
       "      <td>-1.0</td>\n",
       "    </tr>\n",
       "    <tr>\n",
       "      <th>383</th>\n",
       "      <td>the woman directions</td>\n",
       "      <td>-1.0</td>\n",
       "    </tr>\n",
       "    <tr>\n",
       "      <th>310</th>\n",
       "      <td>hermes engine</td>\n",
       "      <td>-1.0</td>\n",
       "    </tr>\n",
       "  </tbody>\n",
       "</table>\n",
       "<p>636 rows × 2 columns</p>\n",
       "</div>"
      ],
      "text/plain": [
       "                       persona  score\n",
       "358                     author    1.0\n",
       "355           our police force    1.0\n",
       "578              hermes' voice    1.0\n",
       "576                kino's head    1.0\n",
       "320          this stubborn man    1.0\n",
       "..                         ...    ...\n",
       "338                   governor   -1.0\n",
       "351  his fellow police officer   -1.0\n",
       "352              his physician   -1.0\n",
       "383       the woman directions   -1.0\n",
       "310              hermes engine   -1.0\n",
       "\n",
       "[636 rows x 2 columns]"
      ]
     },
     "execution_count": 59,
     "metadata": {},
     "output_type": "execute_result"
    }
   ],
   "source": [
    "power_df = pd.DataFrame(riveter.get_score_totals().items(), columns = [\"persona\", \"score\"],).sort_values(by = \"score\", ascending=False)\n",
    "\n",
    "power_df"
   ]
  },
  {
   "cell_type": "markdown",
   "metadata": {},
   "source": [
    "## Get Persona Clusters\n",
    "\n",
    "You can also see what words or names have been clustered together for each persona (performed by the coreference resolution model)."
   ]
  },
  {
   "cell_type": "code",
   "execution_count": 54,
   "metadata": {},
   "outputs": [
    {
     "data": {
      "text/plain": [
       "{'kino': 2557,\n",
       " 'i': 329,\n",
       " 'me': 42,\n",
       " 'she': 625,\n",
       " 'her': 145,\n",
       " 'he': 14,\n",
       " 'him': 6,\n",
       " 'miss kino': 49,\n",
       " 'it': 123,\n",
       " 'you': 115,\n",
       " 'herself': 14,\n",
       " 'even kino': 1,\n",
       " 'the woman': 7,\n",
       " 'the middle-aged woman': 2,\n",
       " 'the middle aged woman': 1,\n",
       " 'they': 7,\n",
       " 'all kino': 1,\n",
       " 'them': 3,\n",
       " 'the old woman': 29,\n",
       " '“kino': 9,\n",
       " '“miss kino': 4,\n",
       " 'the machine': 1,\n",
       " 'the shopkeeper kino': 1,\n",
       " 'the shopkeeper': 2,\n",
       " 'only kino': 4,\n",
       " 'the girl': 1,\n",
       " 'k-kino': 1,\n",
       " 'the dumbfounded kino': 1,\n",
       " '“‘miss kino': 1,\n",
       " 'sakura\\n\\n\\nkino': 1,\n",
       " 'm-miss kino': 1,\n",
       " 'itself': 1,\n",
       " 'the dazed kino': 1,\n",
       " 'the black-jacketed kino': 2,\n",
       " 'lazybones kino': 1,\n",
       " 'the rushing kino': 1,\n",
       " 'the ragged kino': 1,\n",
       " 'yourself': 1,\n",
       " 'the delighted kino': 1,\n",
       " 'myself': 1,\n",
       " 'poor kino': 1,\n",
       " 'the coat kino': 1,\n",
       " 'the coat': 1,\n",
       " 'the mere instant kino': 1,\n",
       " '\"kino': 1,\n",
       " 'one kino': 1,\n",
       " 'themselves': 1,\n",
       " \"'s\": 2,\n",
       " 'the mighty kino': 1,\n",
       " 'the building kino': 1}"
      ]
     },
     "execution_count": 54,
     "metadata": {},
     "output_type": "execute_result"
    }
   ],
   "source": [
    "riveter.get_persona_cluster('kino')"
   ]
  },
  {
   "cell_type": "code",
   "execution_count": 55,
   "metadata": {},
   "outputs": [
    {
     "data": {
      "text/plain": [
       "{'hermes': 1390,\n",
       " 'he': 41,\n",
       " 'him': 21,\n",
       " 'the man': 17,\n",
       " 'i': 8,\n",
       " 'you': 12,\n",
       " 'himself': 6,\n",
       " 'mister hermes': 2,\n",
       " 'it': 15,\n",
       " 'she': 1,\n",
       " 'mr. hermes': 5,\n",
       " 'the neglected hermes': 1,\n",
       " 'the sleeping hermes': 1,\n",
       " 'her': 2,\n",
       " 'the merchant': 24,\n",
       " 'the flustered merchant': 1,\n",
       " 'this same hermes': 1,\n",
       " 'me': 2,\n",
       " \"'s\": 1,\n",
       " 'the railroad company': 3,\n",
       " 'they': 4,\n",
       " 'them': 1,\n",
       " 'the motorrad': 1,\n",
       " 'the carrier': 1}"
      ]
     },
     "execution_count": 55,
     "metadata": {},
     "output_type": "execute_result"
    }
   ],
   "source": [
    "riveter.get_persona_cluster('hermes')"
   ]
  },
  {
   "cell_type": "markdown",
   "metadata": {},
   "source": [
    "## Calculate scores for persona clusters\n",
    "\n",
    "We can use these clusters to calculate scores for persona clusters"
   ]
  },
  {
   "cell_type": "code",
   "execution_count": 56,
   "metadata": {},
   "outputs": [],
   "source": [
    "kino_cluster = riveter.get_persona_cluster('kino')\n",
    "hermes_cluster = riveter.get_persona_cluster('hermes')"
   ]
  },
  {
   "cell_type": "code",
   "execution_count": 61,
   "metadata": {},
   "outputs": [],
   "source": [
    "## todo "
   ]
  },
  {
   "cell_type": "markdown",
   "metadata": {
    "tags": []
   },
   "source": [
    "## Plot Scores for All Documents"
   ]
  },
  {
   "cell_type": "markdown",
   "metadata": {},
   "source": [
    "You can use the `.plot_scores()` function to display a bar plot with the top *n* or bottom *n* personas in the texts. The function will display the top 10 highest-scoring personas by default."
   ]
  },
  {
   "cell_type": "code",
   "execution_count": 39,
   "metadata": {},
   "outputs": [
    {
     "data": {
      "image/png": "[encoded data removed]",
      "text/plain": [
       "<Figure size 640x480 with 1 Axes>"
      ]
     },
     "metadata": {},
     "output_type": "display_data"
    }
   ],
   "source": [
    "riveter.plot_scores()"
   ]
  },
  {
   "cell_type": "code",
   "execution_count": 40,
   "metadata": {},
   "outputs": [
    {
     "data": {
      "image/png": "[encoded data removed]",
      "text/plain": [
       "<Figure size 640x480 with 1 Axes>"
      ]
     },
     "metadata": {},
     "output_type": "display_data"
    }
   ],
   "source": [
    "riveter.plot_scores(20)"
   ]
  },
  {
   "cell_type": "markdown",
   "metadata": {
    "tags": []
   },
   "source": [
    "## Get Scores, Subjects, and Direct Objects for Each Document"
   ]
  },
  {
   "cell_type": "markdown",
   "metadata": {},
   "source": [
    "You can use the `.get_score_for_doc()` function to get power scores (or chosen dynamic scores) for each persona mentioned in a document (based on the document id passed into the training function)."
   ]
  },
  {
   "cell_type": "code",
   "execution_count": 43,
   "metadata": {},
   "outputs": [
    {
     "data": {
      "text/plain": [
       "{'the woman': 0.0,\n",
       " 'the people': 1.0,\n",
       " 'the ashen-eyed man': 0.0,\n",
       " 'the man': 0.0,\n",
       " 'hermes': -13.0,\n",
       " 'its owner': 0.0,\n",
       " 'a man': 6.0,\n",
       " 'kino': 30.0,\n",
       " 'a woman': 10.0,\n",
       " 'such people': 0.0,\n",
       " 'a girl': 0.0,\n",
       " 'my mom': 0.0,\n",
       " 'the innocent children': 1.0,\n",
       " 'a young man in his prime': 3.0,\n",
       " 'kino’s expression': 1.0,\n",
       " 'i': 0.0,\n",
       " 'a kind-looking middle-aged woman': 1.0,\n",
       " 'one man': 1.0,\n",
       " 'a man’s shadow': 2.0,\n",
       " 'a man who appeared to be in his thirties': 2.0,\n",
       " 'you': 1.0,\n",
       " 'the children': 2.0,\n",
       " 'the man walking away from her': 2.0,\n",
       " 'the oldest-looking boy': 1.0,\n",
       " 'an ashen-eyed man': 1.0,\n",
       " 'a girl behind him who looked about twelve': 5.0,\n",
       " 'all those children': 0.0,\n",
       " 'rauher': 22.0,\n",
       " 'my father': 0.0,\n",
       " 'hermes’ handlebars': -1.0,\n",
       " 'kino’s hesitation': 0.0,\n",
       " 'a few people': -1.0,\n",
       " 'hermes’ engine': -1.0,\n",
       " 'his children': 0.0,\n",
       " 'canon': -6.0,\n",
       " 'children': -1.0,\n",
       " 'my family': -1.0,\n",
       " 'a man who leaped out from there': -1.0}"
      ]
     },
     "execution_count": 43,
     "metadata": {},
     "output_type": "execute_result"
    }
   ],
   "source": [
    "riveter.get_scores_for_doc(\"v1c1\")"
   ]
  },
  {
   "cell_type": "markdown",
   "metadata": {},
   "source": [
    "You can use `.count_nsubj_for_doc()` to get all noun subjects and verb pairs (regardless of whether the verb apperas in the chosen lexicon) for each document."
   ]
  },
  {
   "cell_type": "code",
   "execution_count": 44,
   "metadata": {},
   "outputs": [
    {
     "data": {
      "text/plain": [
       "{('the woman', 'say'): 1,\n",
       " ('the people', 'end'): 1,\n",
       " ('the ashen-eyed man', 'say'): 1,\n",
       " ('the man', 'look'): 2,\n",
       " ('the man', 'respond'): 1,\n",
       " ('hermes', 'say'): 6,\n",
       " ('hermes', 'ask'): 11,\n",
       " ('hermes', 'mutter'): 1,\n",
       " ('the people', 'cower'): 1,\n",
       " ('the oldest-looking man', 'speak'): 1,\n",
       " ('the children', 'be'): 1,\n",
       " ('the man', 'cut'): 1,\n",
       " ('about thirty people', 'sit'): 1,\n",
       " ('several people', 'sleep'): 1,\n",
       " ('its owner', 'approach'): 1,\n",
       " ('a man', 'slip'): 1,\n",
       " ('the woman', 'be'): 1,\n",
       " ('the woman', 'speak'): 1,\n",
       " ('the ashen-eyed man', 'speak'): 1,\n",
       " ('kino', 'say'): 10,\n",
       " ('kino', 'answer'): 1,\n",
       " ('kino', 'think'): 2,\n",
       " ('kino', 'have'): 4,\n",
       " ('kino', 'hit'): 1,\n",
       " ('kino', 'make'): 3,\n",
       " ('kino', 'twist'): 1,\n",
       " ('kino', 'take'): 5,\n",
       " ('kino', 'tell'): 2,\n",
       " ('kino', 'stop'): 2,\n",
       " ('kino', 'stand'): 2,\n",
       " ('kino', 'see'): 3,\n",
       " ('kino', 'slow'): 1,\n",
       " ('kino', 'return'): 2,\n",
       " ('kino', 'mutter'): 2,\n",
       " ('kino', 'ask'): 15,\n",
       " ('kino', 'speak'): 2,\n",
       " ('kino', 'launch'): 1,\n",
       " ('kino', 'cut'): 1,\n",
       " ('kino', 'remove'): 2,\n",
       " ('kino', 'thank'): 2,\n",
       " ('kino', 'hear'): 2,\n",
       " ('kino', 'voice'): 1,\n",
       " ('kino', 'wear'): 1,\n",
       " ('kino', 'hang'): 1,\n",
       " ('kino', 'call'): 1,\n",
       " ('kino', 'topple'): 1,\n",
       " ('kino', 'bet'): 1,\n",
       " ('kino', 'get'): 2,\n",
       " ('kino', 'pass'): 2,\n",
       " ('kino', 'doubt'): 1,\n",
       " ('kino', 'fit'): 1,\n",
       " ('kino', 'start'): 1,\n",
       " ('kino', 'look'): 4,\n",
       " ('kino', 'leave'): 4,\n",
       " ('kino', 'reply'): 1,\n",
       " ('kino', 'go'): 3,\n",
       " ('kino', 'nod'): 3,\n",
       " ('kino', 'wake'): 1,\n",
       " ('kino', 'practice'): 1,\n",
       " ('kino', 'give'): 3,\n",
       " ('kino', 'examine'): 1,\n",
       " ('kino', 'notice'): 2,\n",
       " ('kino', 'bite'): 1,\n",
       " ('kino', 'be'): 5,\n",
       " ('kino', 'follow'): 2,\n",
       " ('kino', 'turn'): 6,\n",
       " ('kino', 'become'): 3,\n",
       " ('kino', 'stifle'): 1,\n",
       " ('kino', 'shake'): 1,\n",
       " ('kino', 'respond'): 1,\n",
       " ('kino', 'encounter'): 1,\n",
       " ('kino', 'inform'): 1,\n",
       " ('kino', 'finish'): 1,\n",
       " ('kino', '’'): 2,\n",
       " ('kino', 'learn'): 1,\n",
       " ('kino', 'decline'): 1,\n",
       " ('kino', 'sniff'): 1,\n",
       " ('kino', 'stare'): 1,\n",
       " ('kino', 'apologize'): 1,\n",
       " ('kino', 'escort'): 1,\n",
       " ('kino', 'keep'): 1,\n",
       " ('kino', 'refuse'): 1,\n",
       " ('kino', 'pull'): 2,\n",
       " ('kino', 'trample'): 1,\n",
       " ('kino', 'move'): 1,\n",
       " ('kino', 'grasp'): 1,\n",
       " ('kino', 'cry'): 1,\n",
       " ('kino', 'whisper'): 1,\n",
       " ('kino', 'toss'): 1,\n",
       " ('kino', 'crawl'): 1,\n",
       " ('kino', 'begin'): 1,\n",
       " ('kino', 'shoot'): 1,\n",
       " ('kino', 'click'): 1,\n",
       " ('kino', 'flail'): 1,\n",
       " ('kino', 'face'): 1,\n",
       " ('kino', 'knock'): 1,\n",
       " ('kino', 'enter'): 1,\n",
       " ('kino', 'raise'): 1,\n",
       " ('kino', 'replace'): 1,\n",
       " ('kino', 'bear'): 2,\n",
       " ('kino', 'gaze'): 1,\n",
       " ('kino', 'watch'): 1,\n",
       " ('kino', 'remain'): 1,\n",
       " ('a man', 'find'): 1,\n",
       " ('hermes', 'request'): 1,\n",
       " ('hermes', 'press'): 1,\n",
       " ('hermes', 'sigh'): 1,\n",
       " ('hermes', 'whistle'): 1,\n",
       " ('hermes', 'be'): 4,\n",
       " ('hermes', 'chat'): 1,\n",
       " ('hermes', 'let'): 1,\n",
       " ('hermes', 'take'): 1,\n",
       " ('hermes', 'stand'): 1,\n",
       " ('hermes', 'go'): 1,\n",
       " ('hermes', 'make'): 1,\n",
       " ('hermes', 'continue'): 1,\n",
       " ('hermes', 'see'): 1,\n",
       " ('hermes', 'reply'): 2,\n",
       " ('hermes', 'respond'): 1,\n",
       " ('hermes', '’'): 1,\n",
       " ('hermes', 'complain'): 1,\n",
       " ('a woman', 'produce'): 1,\n",
       " ('a woman', 'have'): 5,\n",
       " ('a woman', 'accept'): 1,\n",
       " ('a woman', 'say'): 1,\n",
       " ('such people', 'be'): 1,\n",
       " ('such people', 'tolerate'): 1,\n",
       " ('a boy', 'be'): 1,\n",
       " ('a girl', 'say'): 1,\n",
       " ('my mom', 'help'): 1,\n",
       " ('the innocent children', 'let'): 1,\n",
       " ('the woman', 'smile'): 1,\n",
       " ('a woman', 'tell'): 1,\n",
       " ('a young man in his prime', 'come'): 1,\n",
       " ('a young man in his prime', 'carry'): 1,\n",
       " ('a young man in his prime', 'say'): 1,\n",
       " ('a young man in his prime', 'ask'): 1,\n",
       " ('a young man in his prime', 'shake'): 1,\n",
       " ('a young man in his prime', 'exclaim'): 1,\n",
       " ('a young man in his prime', 'ride'): 1,\n",
       " ('a woman', 'milk'): 1,\n",
       " ('kino’s expression', 'change'): 1,\n",
       " ('the people', 'scream'): 1,\n",
       " ('a man', 'stand'): 1,\n",
       " ('hermes', 'agree'): 1,\n",
       " ('i', 'rig'): 1,\n",
       " ('i', 'ask'): 1,\n",
       " ('i', 'use'): 1,\n",
       " ('a kind-looking middle-aged woman', 'lead'): 1,\n",
       " ('a kind-looking middle-aged woman', 'leave'): 1,\n",
       " ('one man', 'move'): 1,\n",
       " ('one man', 'dance'): 2,\n",
       " ('a man', 'grab'): 1,\n",
       " ('a man', 'begin'): 1,\n",
       " ('a man', 'laugh'): 1,\n",
       " ('a man', 'stab'): 1,\n",
       " ('a man', 'look'): 1,\n",
       " ('a man', 'say'): 1,\n",
       " ('a man', 'stay'): 1,\n",
       " ('a man', 'explain'): 1,\n",
       " ('a man', 'do'): 3,\n",
       " ('a man', 'teach'): 1,\n",
       " ('a man', 'die'): 1,\n",
       " ('a man', 'have'): 1,\n",
       " ('a man', 'be'): 6,\n",
       " ('a man', 'understand'): 1,\n",
       " ('a man', 'pass'): 1,\n",
       " ('a man', 'receive'): 1,\n",
       " ('a man', 'assassinate'): 1,\n",
       " ('a man', 'think'): 1,\n",
       " ('a man', 'kill'): 1,\n",
       " ('a man', 'become'): 1,\n",
       " ('a man', 'want'): 3,\n",
       " ('a man', 'come'): 1,\n",
       " ('a man', 'wonder'): 1,\n",
       " ('a man', 'start'): 1,\n",
       " ('a man', 'see'): 1,\n",
       " ('a man', 'ask'): 1,\n",
       " ('a man', 'help'): 1,\n",
       " ('a man', 'answer'): 1,\n",
       " ('a man', 'remind'): 1,\n",
       " ('a man', 'meet'): 1,\n",
       " ('a man', 'forget'): 1,\n",
       " ('one man', 'totter'): 1,\n",
       " ('a man’s shadow', 'grab'): 1,\n",
       " ('a man’s shadow', 'reply'): 1,\n",
       " ('a man’s shadow', 'whiff'): 1,\n",
       " ('a man’s shadow', 'offer'): 1,\n",
       " ('a man’s shadow', 'will'): 1,\n",
       " ('a man’s shadow', 'say'): 1,\n",
       " ('a man’s shadow', 'escape'): 1,\n",
       " ('a man’s shadow', 'do'): 1,\n",
       " ('a man’s shadow', 'convince'): 1,\n",
       " ('a man who appeared to be in his thirties', 'have'): 1,\n",
       " ('a man who appeared to be in his thirties', 'seem'): 1,\n",
       " ('a man who appeared to be in his thirties', 'wear'): 1,\n",
       " ('a man who appeared to be in his thirties', 'be'): 1,\n",
       " ('a man who appeared to be in his thirties', 'say'): 2,\n",
       " ('a man who appeared to be in his thirties', 'continue'): 1,\n",
       " ('a man who appeared to be in his thirties', 'look'): 1,\n",
       " ('the children', 'participate'): 1,\n",
       " ('you', 'try'): 1,\n",
       " ('you', 'forget'): 1,\n",
       " ('a woman', 'pass'): 1,\n",
       " ('a woman', 'place'): 1,\n",
       " ('a woman', 'lead'): 1,\n",
       " ('a woman', 'bring'): 1,\n",
       " ('a woman', 'kick'): 1,\n",
       " ('the children', 'look'): 1,\n",
       " ('the children', 'approach'): 1,\n",
       " ('the children', 'see'): 1,\n",
       " ('the man walking away from her', 'turn'): 1,\n",
       " ('the man walking away from her', 'wave'): 1,\n",
       " ('the man walking away from her', 'survey'): 1,\n",
       " ('the man walking away from her', 'open'): 1,\n",
       " ('the man walking away from her', 'see'): 1,\n",
       " ('the man walking away from her', 'be'): 1,\n",
       " ('the man walking away from her', 'try'): 1,\n",
       " ('the man walking away from her', 'die'): 1,\n",
       " ('the oldest-looking boy', 'reply'): 1,\n",
       " ('the oldest-looking boy', 'pull'): 1,\n",
       " ('the oldest-looking boy', 'say'): 1,\n",
       " ('the oldest-looking boy', 'fall'): 1,\n",
       " ('the oldest-looking boy', 'go'): 1,\n",
       " ('the oldest-looking boy', 'have'): 1,\n",
       " ('the oldest-looking boy', '’'): 1,\n",
       " ('the oldest-looking boy', 'be'): 1,\n",
       " ('the oldest-looking boy', 'respond'): 1,\n",
       " ('the children', 'shudder'): 1,\n",
       " ('the children', 'gather'): 1,\n",
       " ('the children', 'go'): 1,\n",
       " ('the children', 'cry'): 1,\n",
       " ('the children', 'grow'): 1,\n",
       " ('the children', 'search'): 1,\n",
       " ('an ashen-eyed man', 'enter'): 1,\n",
       " ('an ashen-eyed man', 'tell'): 1,\n",
       " ('an ashen-eyed man', 'have'): 1,\n",
       " ('an ashen-eyed man', 'say'): 1,\n",
       " ('an ashen-eyed man', 'want'): 1,\n",
       " ('a girl behind him who looked about twelve', 'turn'): 1,\n",
       " ('a girl behind him who looked about twelve', 'say'): 1,\n",
       " ('a girl behind him who looked about twelve', 'give'): 1,\n",
       " ('a girl behind him who looked about twelve', 'ignore'): 1,\n",
       " ('a girl behind him who looked about twelve', '’'): 1,\n",
       " ('a girl behind him who looked about twelve', 'be'): 2,\n",
       " ('a girl behind him who looked about twelve', 'stare'): 1,\n",
       " ('a girl behind him who looked about twelve', 'ride'): 1,\n",
       " ('a girl behind him who looked about twelve', 'grow'): 1,\n",
       " ('a girl behind him who looked about twelve', 'decide'): 1,\n",
       " ('a girl behind him who looked about twelve', 'go'): 1,\n",
       " ('a man who leaped out from there', 'tumble'): 1,\n",
       " ('all those children', 'think'): 1,\n",
       " ('rauher', 'beat'): 1,\n",
       " ('rauher', 'pull'): 3,\n",
       " ('rauher', 'do'): 2,\n",
       " ('rauher', 'shake'): 3,\n",
       " ('rauher', 'say'): 7,\n",
       " ('rauher', 'light'): 2,\n",
       " ('rauher', 'use'): 1,\n",
       " ('rauher', 'borrow'): 1,\n",
       " ('rauher', 'begin'): 2,\n",
       " ('rauher', 'seem'): 1,\n",
       " ('rauher', 'question'): 1,\n",
       " ('rauher', 'glance'): 1,\n",
       " ('rauher', 'hold'): 1,\n",
       " ('rauher', 'drink'): 1,\n",
       " ('rauher', 'want'): 1,\n",
       " ('rauher', 'see'): 1,\n",
       " ('rauher', 'understand'): 1,\n",
       " ('rauher', 'be'): 3,\n",
       " ('rauher', 'give'): 2,\n",
       " ('rauher', 'wake'): 1,\n",
       " ('rauher', 'wonder'): 1,\n",
       " ('rauher', 'spit'): 1,\n",
       " ('rauher', 'think'): 2,\n",
       " ('rauher', 'go'): 2,\n",
       " ('rauher', 'die'): 1,\n",
       " ('rauher', 'choose'): 1,\n",
       " ('rauher', 'memorize'): 1,\n",
       " ('rauher', 'become'): 1,\n",
       " ('rauher', 'evaluate'): 1,\n",
       " ('rauher', 'guess'): 1,\n",
       " ('rauher', 'respond'): 1,\n",
       " ('rauher', 'breathe'): 2,\n",
       " ('rauher', 'answer'): 2,\n",
       " ('rauher', 'know'): 1,\n",
       " ('rauher', 'take'): 2,\n",
       " ('rauher', 'tell'): 1,\n",
       " ('rauher', 'mutter'): 1,\n",
       " ('rauher', 'yell'): 1,\n",
       " ('rauher', 'open'): 1,\n",
       " ('rauher', 'strike'): 1,\n",
       " ('rauher', 'transfer'): 1,\n",
       " ('rauher', 'slash'): 1,\n",
       " ('rauher', 'turn'): 2,\n",
       " ('rauher', 'come'): 1,\n",
       " ('rauher', 'smile'): 1,\n",
       " ('rauher', 'reply'): 1,\n",
       " ('rauher', 'narrow'): 1,\n",
       " ('rauher', 'nod'): 1}"
      ]
     },
     "execution_count": 44,
     "metadata": {},
     "output_type": "execute_result"
    }
   ],
   "source": [
    "riveter.count_nsubj_for_doc(\"v1c1\")"
   ]
  },
  {
   "cell_type": "markdown",
   "metadata": {},
   "source": [
    "You can use `.count_dobj_for_doc()` to get all direct objects and verb pairs (regardless of whether the verb apperas in the chosen lexicon) for each document."
   ]
  },
  {
   "cell_type": "code",
   "execution_count": 45,
   "metadata": {},
   "outputs": [
    {
     "data": {
      "text/plain": [
       "{('my father', 'tell'): 1,\n",
       " ('hermes', 'ask'): 3,\n",
       " ('hermes’ handlebars', 'grab'): 1,\n",
       " ('kino’s hesitation', 'see'): 1,\n",
       " ('a few people', 'bring'): 1,\n",
       " ('hermes’ engine', 'start'): 1,\n",
       " ('kino', 'ask'): 2,\n",
       " ('kino', 'mind'): 1,\n",
       " ('kino', 'tell'): 1,\n",
       " ('kino', 'touch'): 1,\n",
       " ('kino', 'displease'): 1,\n",
       " ('kino', 'lend'): 1,\n",
       " ('kino', 'thank'): 1,\n",
       " ('kino', 'escort'): 1,\n",
       " ('kino', 'lead'): 1,\n",
       " ('kino', 'surround'): 1,\n",
       " ('kino', 'approach'): 1,\n",
       " ('kino', 'find'): 1,\n",
       " ('kino', 'conceal'): 1,\n",
       " ('kino', 'hurt'): 1,\n",
       " ('kino', 'release'): 1,\n",
       " ('kino', 'get'): 1,\n",
       " ('kino', 'pull'): 1,\n",
       " ('kino', 'see'): 1,\n",
       " ('kino', 'instruct'): 1,\n",
       " ('hermes', 'slow'): 1,\n",
       " ('hermes', 'stop'): 1,\n",
       " ('hermes', 'leave'): 2,\n",
       " ('hermes', 'surround'): 1,\n",
       " ('hermes', 'tell'): 1,\n",
       " ('his children', 'bear'): 1,\n",
       " ('canon', 'replace'): 1,\n",
       " ('a young man in his prime', 'follow'): 1,\n",
       " ('hermes', 'launch'): 1,\n",
       " ('hermes', 'examine'): 1,\n",
       " ('children', 'produce'): 1,\n",
       " ('children', 'bear'): 1,\n",
       " ('i', 'include'): 1,\n",
       " ('a kind-looking middle-aged woman', 'lead'): 1,\n",
       " ('one man', 'help'): 1,\n",
       " ('a man', 'thank'): 1,\n",
       " ('a man', 'ask'): 1,\n",
       " ('a man', 'help'): 1,\n",
       " ('a man', 'answer'): 1,\n",
       " ('a man', 'remind'): 1,\n",
       " ('a man', 'meet'): 1,\n",
       " ('a man', 'save'): 1,\n",
       " ('a man’s shadow', 'remove'): 1,\n",
       " ('a man’s shadow', 'push'): 1,\n",
       " ('a man’s shadow', 'attack'): 1,\n",
       " ('a man who appeared to be in his thirties', 'see'): 1,\n",
       " ('a woman', 'accept'): 1,\n",
       " ('a woman', 'turn'): 1,\n",
       " ('canon', 'pull'): 2,\n",
       " ('canon', 'return'): 1,\n",
       " ('canon', 'push'): 1,\n",
       " ('canon', 'grip'): 1,\n",
       " ('my family', 'build'): 1,\n",
       " ('the man walking away from her', 'see'): 1,\n",
       " ('the oldest-looking boy', 'ask'): 1,\n",
       " ('the oldest-looking boy', 'ignore'): 1,\n",
       " ('the children', 'tell'): 2,\n",
       " ('a man who leaped out from there', 'shoot'): 1,\n",
       " ('all those children', 'tell'): 1,\n",
       " ('rauher', 'attack'): 1,\n",
       " ('rauher', 'beg'): 1,\n",
       " ('rauher', 'ask'): 1,\n",
       " ('rauher', 'familiarize'): 1,\n",
       " ('rauher', 'excuse'): 1,\n",
       " ('rauher', 'push'): 1,\n",
       " ('rauher', 'face'): 1}"
      ]
     },
     "execution_count": 45,
     "metadata": {},
     "output_type": "execute_result"
    }
   ],
   "source": [
    "riveter.count_dobj_for_doc(\"v1c1\")"
   ]
  },
  {
   "cell_type": "markdown",
   "metadata": {
    "tags": []
   },
   "source": [
    "## Plot Scores for Each Document"
   ]
  },
  {
   "cell_type": "markdown",
   "metadata": {},
   "source": [
    "You can use the `.plot_scores_for_doc()` function to display a bar plot with the top *n* or bottom *n* personas in a specified document. The function will display the top 10 highest-scoring personas by default."
   ]
  },
  {
   "cell_type": "code",
   "execution_count": 46,
   "metadata": {},
   "outputs": [
    {
     "data": {
      "image/png": "[encoded data removed]",
      "text/plain": [
       "<Figure size 640x480 with 1 Axes>"
      ]
     },
     "metadata": {},
     "output_type": "display_data"
    }
   ],
   "source": [
    "riveter.plot_scores_for_doc(\"v1c1\")"
   ]
  },
  {
   "cell_type": "code",
   "execution_count": 47,
   "metadata": {},
   "outputs": [
    {
     "data": {
      "image/png": "[encoded data removed]",
      "text/plain": [
       "<Figure size 640x480 with 1 Axes>"
      ]
     },
     "metadata": {},
     "output_type": "display_data"
    }
   ],
   "source": [
    "riveter.plot_scores_for_doc(\"v10c6\")"
   ]
  },
  {
   "cell_type": "markdown",
   "metadata": {},
   "source": [
    "## Regular Expression "
   ]
  },
  {
   "cell_type": "code",
   "execution_count": null,
   "metadata": {},
   "outputs": [
    {
     "name": "stderr",
     "output_type": "stream",
     "text": [
      " 67%|█████████████████████████████████████████████████████████████████████▎                                  | 2/3 [00:00<00:00, 16.75it/s]"
     ]
    },
    {
     "name": "stdout",
     "output_type": "stream",
     "text": [
      "2023-02-22 23:20:03 Complete!\n"
     ]
    },
    {
     "name": "stderr",
     "output_type": "stream",
     "text": [
      "\n"
     ]
    }
   ],
   "source": [
    "riveter.train(example_stories,\n",
    "              text_ids,\n",
    "              persona_patterns_dict={'first person singular': r'^i$|^me$'})"
   ]
  },
  {
   "cell_type": "code",
   "execution_count": 8,
   "metadata": {},
   "outputs": [
    {
     "data": {
      "text/plain": [
       "{'first person singular': -0.16666666666666666}"
      ]
     },
     "execution_count": 8,
     "metadata": {},
     "output_type": "execute_result"
    }
   ],
   "source": [
    "riveter.get_score_totals()"
   ]
  },
  {
   "cell_type": "code",
   "execution_count": 25,
   "metadata": {},
   "outputs": [
    {
     "name": "stderr",
     "output_type": "stream",
     "text": [
      "100%|████████████████████████████████████████████████████████████████████████████████████████████████████████| 3/3 [00:00<00:00, 39.77it/s]"
     ]
    },
    {
     "name": "stdout",
     "output_type": "stream",
     "text": [
      "2023-02-23 00:21:35 Complete!\n"
     ]
    },
    {
     "name": "stderr",
     "output_type": "stream",
     "text": [
      "\n"
     ]
    }
   ],
   "source": [
    "riveter = Riveter()\n",
    "riveter.load_sap_lexicon('agency')\n",
    "riveter.train(example_stories,\n",
    "              text_ids)"
   ]
  },
  {
   "cell_type": "code",
   "execution_count": 26,
   "metadata": {},
   "outputs": [
    {
     "data": {
      "text/plain": [
       "{'i': 0.3333333333333333, 'my doctor': 0.2, 'susan': 0.5, 'the doctor': 0.0}"
      ]
     },
     "execution_count": 26,
     "metadata": {},
     "output_type": "execute_result"
    }
   ],
   "source": [
    "riveter.get_score_totals()"
   ]
  },
  {
   "cell_type": "markdown",
   "metadata": {},
   "source": [
    "<br><br><br><br>\n",
    "\n",
    "# **Small demo w/ Rashkin frames**"
   ]
  },
  {
   "cell_type": "code",
   "execution_count": 28,
   "metadata": {},
   "outputs": [],
   "source": [
    "example_stories = [\"I was just thinking about walking down the street, when my shoelace snapped. I had to call my doctor to pick me up. I felt so bad I also called my friend Katie, who came in her car. She was a lifesaver. My friend Jack is nice.\",\n",
    "                   \"My doctor fixed my shoe. I thanked him. Then Susan arrived. Now she is calling the doctor too.\"]\n",
    "text_ids = [0, 1]"
   ]
  },
  {
   "cell_type": "code",
   "execution_count": 29,
   "metadata": {},
   "outputs": [
    {
     "name": "stderr",
     "output_type": "stream",
     "text": [
      "100%|████████████████████████████████████████████████████████████████████████████████████████████████████████| 2/2 [00:00<00:00, 33.66it/s]"
     ]
    },
    {
     "name": "stdout",
     "output_type": "stream",
     "text": [
      "2023-02-22 23:20:37 Complete!\n"
     ]
    },
    {
     "name": "stderr",
     "output_type": "stream",
     "text": [
      "\n"
     ]
    }
   ],
   "source": [
    "riveter = Riveter()\n",
    "riveter.load_rashkin_lexicon('effect')\n",
    "riveter.train(example_stories,\n",
    "              text_ids)"
   ]
  },
  {
   "cell_type": "code",
   "execution_count": 30,
   "metadata": {},
   "outputs": [
    {
     "data": {
      "text/plain": [
       "{'i': 0.34444444444450006,\n",
       " 'my doctor': 0.27999999999999997,\n",
       " 'susan': 0.16666666666649999}"
      ]
     },
     "execution_count": 30,
     "metadata": {},
     "output_type": "execute_result"
    }
   ],
   "source": [
    "riveter.get_score_totals()"
   ]
  },
  {
   "cell_type": "code",
   "execution_count": 31,
   "metadata": {},
   "outputs": [
    {
     "data": {
      "text/plain": [
       "{'i': 1.4000000000000001, 'my doctor': 0.266666666667}"
      ]
     },
     "execution_count": 31,
     "metadata": {},
     "output_type": "execute_result"
    }
   ],
   "source": [
    "riveter.get_scores_for_doc(0)"
   ]
  },
  {
   "cell_type": "code",
   "execution_count": 32,
   "metadata": {},
   "outputs": [
    {
     "data": {
      "text/plain": [
       "{'susan': 0.33333333333299997,\n",
       " 'i': 0.666666666667,\n",
       " 'my doctor': 1.133333333333}"
      ]
     },
     "execution_count": 32,
     "metadata": {},
     "output_type": "execute_result"
    }
   ],
   "source": [
    "riveter.get_scores_for_doc(1)"
   ]
  },
  {
   "cell_type": "code",
   "execution_count": 33,
   "metadata": {},
   "outputs": [
    {
     "name": "stderr",
     "output_type": "stream",
     "text": [
      "100%|████████████████████████████████████████████████████████████████████████████████████████████████████████| 2/2 [00:00<00:00, 32.23it/s]"
     ]
    },
    {
     "name": "stdout",
     "output_type": "stream",
     "text": [
      "2023-02-22 23:20:39 Complete!\n"
     ]
    },
    {
     "name": "stderr",
     "output_type": "stream",
     "text": [
      "\n"
     ]
    }
   ],
   "source": [
    "riveter = Riveter()\n",
    "riveter.load_rashkin_lexicon('value')\n",
    "riveter.train(example_stories,\n",
    "              text_ids)"
   ]
  },
  {
   "cell_type": "code",
   "execution_count": 34,
   "metadata": {},
   "outputs": [
    {
     "data": {
      "text/plain": [
       "{'i': 0.6444444444445,\n",
       " 'my doctor': 0.6400000000002001,\n",
       " 'susan': 0.5333333333335}"
      ]
     },
     "execution_count": 34,
     "metadata": {},
     "output_type": "execute_result"
    }
   ],
   "source": [
    "riveter.get_score_totals()"
   ]
  },
  {
   "cell_type": "markdown",
   "metadata": {},
   "source": [
    "<br><br><br><br>\n",
    "\n",
    "# **Bigger demo w/ Sap frames and example dataset**"
   ]
  },
  {
   "cell_type": "code",
   "execution_count": 8,
   "metadata": {},
   "outputs": [
    {
     "data": {
      "text/plain": [
       "(10000, 10000)"
      ]
     },
     "execution_count": 8,
     "metadata": {},
     "output_type": "execute_result"
    }
   ],
   "source": [
    "texts = []\n",
    "text_ids = []\n",
    "stories_path = '/Users/maria/Documents/data/narrativity/litbank/original'   # Litbank corpus here: https://github.com/dbamman/litbank\n",
    "\n",
    "j = 0\n",
    "for _file_name in os.listdir(stories_path):\n",
    "    _lines = []\n",
    "    for _line in open(stories_path + '/' + _file_name, 'r'):\n",
    "        if _line.strip():\n",
    "            _lines.append(_line.strip())\n",
    "\n",
    "    # Randomly sample 100 paragraphs from each book\n",
    "    for _line in random.sample(_lines, 100):        \n",
    "        texts.append(_line)\n",
    "        text_ids.append(j)\n",
    "        j += 1\n",
    "\n",
    "len(texts), len(text_ids)"
   ]
  },
  {
   "cell_type": "code",
   "execution_count": 24,
   "metadata": {},
   "outputs": [
    {
     "name": "stderr",
     "output_type": "stream",
     "text": [
      "100%|██████████| 10000/10000 [01:33<00:00, 106.97it/s]"
     ]
    },
    {
     "name": "stdout",
     "output_type": "stream",
     "text": [
      "2023-02-22 22:29:49 Complete!\n"
     ]
    },
    {
     "name": "stderr",
     "output_type": "stream",
     "text": [
      "\n"
     ]
    }
   ],
   "source": [
    "riveter = Riveter()\n",
    "riveter.load_sap_lexicon('power')\n",
    "riveter.train(texts,\n",
    "             text_ids)"
   ]
  },
  {
   "cell_type": "code",
   "execution_count": 25,
   "metadata": {},
   "outputs": [
    {
     "data": {
      "text/plain": [
       "704"
      ]
     },
     "execution_count": 25,
     "metadata": {},
     "output_type": "execute_result"
    }
   ],
   "source": [
    "persona_score_dict = riveter.get_score_totals()\n",
    "len(persona_score_dict)"
   ]
  },
  {
   "cell_type": "code",
   "execution_count": 26,
   "metadata": {},
   "outputs": [
    {
     "name": "stdout",
     "output_type": "stream",
     "text": [
      "1.0 \t daredevil\n",
      "1.0 \t my dear man\n",
      "1.0 \t dr. morton\n",
      "1.0 \t dear georgiana\n",
      "1.0 \t edna\n",
      "1.0 \t even the kitchen\n",
      "1.0 \t george, jr.\n",
      "1.0 \t mrs. grose\n",
      "1.0 \t esau\n",
      "1.0 \t the wolfes\n",
      "1.0 \t i know\n",
      "1.0 \t old ben\n",
      "1.0 \t sibyl vane's\n",
      "1.0 \t poor dreadful mr. isaacs\n",
      "1.0 \t cassandra\n",
      "1.0 \t girls\n",
      "1.0 \t both pedro\n",
      "1.0 \t auchincloss's query\n",
      "1.0 \t mr. boldwood\n",
      "1.0 \t miss millward\n"
     ]
    }
   ],
   "source": [
    "for _persona, _score in sorted(persona_score_dict.items(), key=lambda x: x[1], reverse=True)[:20]:\n",
    "    print(_score, '\\t', _persona)"
   ]
  },
  {
   "cell_type": "code",
   "execution_count": 32,
   "metadata": {},
   "outputs": [
    {
     "data": {
      "text/plain": [
       "31"
      ]
     },
     "execution_count": 32,
     "metadata": {},
     "output_type": "execute_result"
    }
   ],
   "source": [
    "# The scores above are skewed by infrequent entities.\n",
    "# For example, an entity could appear just once in the dataset, and if it has power in that one instance, it will have a score of 1.0.\n",
    "# We can remove the infrequent entities to clean up the ranked list.\n",
    "# (Note that this wasn't a great test dataset because most entities don't occur very often; hopefully the NYT data is better!)\n",
    "\n",
    "persona_count_dict = riveter.get_persona_counts()\n",
    "persona_score_dict = {p: s for p, s in persona_score_dict.items() if persona_count_dict[p] >= 5}\n",
    "len(persona_score_dict)"
   ]
  },
  {
   "cell_type": "code",
   "execution_count": 33,
   "metadata": {},
   "outputs": [
    {
     "name": "stdout",
     "output_type": "stream",
     "text": [
      "0.33 \t tom\n",
      "0.3 \t andy\n",
      "0.27 \t your\n",
      "0.26 \t mary\n",
      "0.21 \t dick\n",
      "0.2 \t the woman\n",
      "0.2 \t jane\n",
      "0.2 \t jock\n",
      "0.19 \t helen\n",
      "0.17 \t anne\n",
      "0.15 \t the doctor\n",
      "0.13 \t you\n",
      "0.1 \t i\n",
      "0.1 \t the old man\n",
      "0.09 \t george\n",
      "0.08 \t a woman\n",
      "0.08 \t margaret\n",
      "0.06 \t \"i\n",
      "0.04 \t myself\n",
      "0.04 \t a man\n",
      "0.02 \t the man\n",
      "0.0 \t man\n",
      "0.0 \t dale\n",
      "0.0 \t philip\n",
      "0.0 \t sir\n",
      "0.0 \t joe\n",
      "0.0 \t emma\n",
      "0.0 \t alice\n",
      "-0.1 \t woman\n",
      "-0.11 \t anthony\n",
      "-0.23 \t frank\n"
     ]
    }
   ],
   "source": [
    "for _persona, _score in sorted(persona_score_dict.items(), key=lambda x: x[1], reverse=True):\n",
    "    print(round(_score, 2), '\\t', _persona)"
   ]
  },
  {
   "cell_type": "code",
   "execution_count": 34,
   "metadata": {},
   "outputs": [
    {
     "data": {
      "text/plain": [
       "{'mary': 30, 'she': 4, 'you': 2, 'herself': 1, 'her': 1}"
      ]
     },
     "execution_count": 34,
     "metadata": {},
     "output_type": "execute_result"
    }
   ],
   "source": [
    "riveter.get_persona_cluster('mary')"
   ]
  },
  {
   "cell_type": "code",
   "execution_count": 35,
   "metadata": {},
   "outputs": [
    {
     "data": {
      "text/plain": [
       "{'you': 930,\n",
       " 'i': 37,\n",
       " 'me': 8,\n",
       " 'she': 3,\n",
       " 'he': 2,\n",
       " 'myself': 1,\n",
       " 'yours': 1,\n",
       " 'yourself': 1}"
      ]
     },
     "execution_count": 35,
     "metadata": {},
     "output_type": "execute_result"
    }
   ],
   "source": [
    "riveter.get_persona_cluster('you')"
   ]
  },
  {
   "cell_type": "code",
   "execution_count": 36,
   "metadata": {},
   "outputs": [
    {
     "data": {
      "text/plain": [
       "{'the man': 42, 'him': 1, 'you': 1, 'i': 3, 'he': 1}"
      ]
     },
     "execution_count": 36,
     "metadata": {},
     "output_type": "execute_result"
    }
   ],
   "source": [
    "riveter.get_persona_cluster('the man')"
   ]
  },
  {
   "cell_type": "code",
   "execution_count": 10,
   "metadata": {},
   "outputs": [
    {
     "name": "stderr",
     "output_type": "stream",
     "text": [
      "100%|██████████| 10000/10000 [01:31<00:00, 109.00it/s]"
     ]
    },
    {
     "name": "stdout",
     "output_type": "stream",
     "text": [
      "2023-02-22 23:06:03 Complete!\n"
     ]
    },
    {
     "name": "stderr",
     "output_type": "stream",
     "text": [
      "\n"
     ]
    }
   ],
   "source": [
    "riveter = Riveter()\n",
    "riveter.load_sap_lexicon('power')\n",
    "riveter.train(texts,\n",
    "             text_ids,\n",
    "             persona_patterns_dict={'masculine pronouns': r'^he$|^him$|^himself$',\n",
    "                                    'feminine pronouns': r'^she$|^her$|^herself$',\n",
    "                                    'third person plural pronouns': r'^they$|^them$|^themselves$'})"
   ]
  },
  {
   "cell_type": "code",
   "execution_count": 11,
   "metadata": {},
   "outputs": [
    {
     "data": {
      "text/plain": [
       "3"
      ]
     },
     "execution_count": 11,
     "metadata": {},
     "output_type": "execute_result"
    }
   ],
   "source": [
    "persona_score_dict = riveter.get_score_totals()\n",
    "len(persona_score_dict)"
   ]
  },
  {
   "cell_type": "code",
   "execution_count": 13,
   "metadata": {},
   "outputs": [
    {
     "name": "stdout",
     "output_type": "stream",
     "text": [
      "0.163 \t third person plural pronouns\n",
      "0.122 \t masculine pronouns\n",
      "0.117 \t feminine pronouns\n"
     ]
    }
   ],
   "source": [
    "for _persona, _score in sorted(persona_score_dict.items(), key=lambda x: x[1], reverse=True):\n",
    "    print(round(_score, 3), '\\t', _persona)"
   ]
  },
  {
   "cell_type": "code",
   "execution_count": 14,
   "metadata": {},
   "outputs": [
    {
     "data": {
      "text/plain": [
       "{'he': 1480, 'him': 313, 'himself': 54}"
      ]
     },
     "execution_count": 14,
     "metadata": {},
     "output_type": "execute_result"
    }
   ],
   "source": [
    "riveter.get_persona_cluster('masculine pronouns')"
   ]
  },
  {
   "cell_type": "code",
   "execution_count": 15,
   "metadata": {},
   "outputs": [
    {
     "data": {
      "text/plain": [
       "{'she': 913, 'herself': 34, 'her': 203}"
      ]
     },
     "execution_count": 15,
     "metadata": {},
     "output_type": "execute_result"
    }
   ],
   "source": [
    "riveter.get_persona_cluster('feminine pronouns')"
   ]
  },
  {
   "cell_type": "code",
   "execution_count": 16,
   "metadata": {},
   "outputs": [
    {
     "data": {
      "text/plain": [
       "{'them': 133, 'they': 400, 'themselves': 19}"
      ]
     },
     "execution_count": 16,
     "metadata": {},
     "output_type": "execute_result"
    }
   ],
   "source": [
    "riveter.get_persona_cluster('third person plural pronouns')"
   ]
  },
  {
   "cell_type": "code",
   "execution_count": null,
   "metadata": {},
   "outputs": [],
   "source": []
  }
 ],
 "metadata": {
  "kernelspec": {
   "display_name": "Python 3 (ipykernel)",
   "language": "python",
   "name": "python3"
  },
  "language_info": {
   "codemirror_mode": {
    "name": "ipython",
    "version": 3
   },
   "file_extension": ".py",
   "mimetype": "text/x-python",
   "name": "python",
   "nbconvert_exporter": "python",
   "pygments_lexer": "ipython3",
   "version": "3.8.16"
  },
  "vscode": {
   "interpreter": {
    "hash": "66412c03f91e9a42e9c41dd543b50b96eee08a8e3011708689019231b0abadf5"
   }
  }
 },
 "nbformat": 4,
 "nbformat_minor": 4
}
